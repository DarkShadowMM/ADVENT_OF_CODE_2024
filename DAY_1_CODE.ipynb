{
 "cells": [
  {
   "cell_type": "code",
   "execution_count": 1,
   "id": "818555ad-d7fa-4864-a6b1-5186335f60ef",
   "metadata": {},
   "outputs": [
    {
     "name": "stdout",
     "output_type": "stream",
     "text": [
      "hello\n"
     ]
    }
   ],
   "source": [
    "print('hello')"
   ]
  },
  {
   "cell_type": "code",
   "execution_count": 3,
   "id": "8cdb92bc-0d5a-49bc-ae86-d391f16d9f92",
   "metadata": {},
   "outputs": [
    {
     "name": "stdout",
     "output_type": "stream",
     "text": [
      "11\n"
     ]
    }
   ],
   "source": [
    "list1=[3,4,2,1,3,3]\n",
    "list2=[4,3,5,3,9,3]\n",
    "\n",
    "sum1=0\n",
    "\n",
    "list1.sort()\n",
    "list2.sort()\n",
    "\n",
    "for i in range(6):\n",
    "    sum1+=abs(list1[i]-list2[i])\n",
    "print(sum1)\n",
    "\n",
    "\n",
    "\n"
   ]
  },
  {
   "cell_type": "code",
   "execution_count": 15,
   "id": "8ef082b0-3f72-4e1b-bb1f-91d8098425bf",
   "metadata": {},
   "outputs": [
    {
     "name": "stdout",
     "output_type": "stream",
     "text": [
      "2285373\n"
     ]
    }
   ],
   "source": [
    "list1=[]\n",
    "list2=[]\n",
    "with open(\"day1_input.txt\",\"r\") as file:\n",
    "    for line in file:\n",
    "        line=line.strip().split()\n",
    "        list1.append(int(line[0]))\n",
    "        list2.append(int(line[1]))\n",
    "sum1=0\n",
    "\n",
    "list1.sort()\n",
    "list2.sort()\n",
    "\n",
    "for i in range(len(list1)):\n",
    "    sum1+=abs(list1[i]-list2[i])\n",
    "print(sum1)\n"
   ]
  },
  {
   "cell_type": "code",
   "execution_count": 25,
   "id": "760bf9db-6810-4cc1-8137-de79269e069d",
   "metadata": {},
   "outputs": [
    {
     "name": "stdout",
     "output_type": "stream",
     "text": [
      "list[0]\n",
      "3\n",
      "list[1]\n",
      "1\n",
      "list[2]\n",
      "0\n",
      "list[3]\n",
      "0\n",
      "list[4]\n",
      "3\n",
      "list[5]\n",
      "3\n",
      "31\n"
     ]
    }
   ],
   "source": [
    "list1=[3,4,2,1,3,3]\n",
    "list2=[4,3,5,3,9,3]\n",
    "\n",
    "sum1=0\n",
    "\n",
    "\n",
    "\n",
    "for i in range(len(list1)):\n",
    "    a=list2.count(list1[i])\n",
    "    sum1+=list1[i]*a\n",
    "    print(list[i])\n",
    "    print(a)\n",
    "print(sum1)"
   ]
  },
  {
   "cell_type": "code",
   "execution_count": null,
   "id": "2b95e504-51e1-4482-a826-14b9c0a23595",
   "metadata": {},
   "outputs": [],
   "source": []
  }
 ],
 "metadata": {
  "kernelspec": {
   "display_name": "Python [conda env:base] *",
   "language": "python",
   "name": "conda-base-py"
  },
  "language_info": {
   "codemirror_mode": {
    "name": "ipython",
    "version": 3
   },
   "file_extension": ".py",
   "mimetype": "text/x-python",
   "name": "python",
   "nbconvert_exporter": "python",
   "pygments_lexer": "ipython3",
   "version": "3.12.7"
  }
 },
 "nbformat": 4,
 "nbformat_minor": 5
}
