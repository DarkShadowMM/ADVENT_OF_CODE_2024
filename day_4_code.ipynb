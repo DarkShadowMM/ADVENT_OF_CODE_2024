{
 "cells": [
  {
   "cell_type": "code",
   "execution_count": 37,
   "id": "c27d6b13-9b7b-4e52-9d35-9cea777fdcda",
   "metadata": {},
   "outputs": [
    {
     "name": "stdout",
     "output_type": "stream",
     "text": [
      "['MMAMAMASXAAAXAAMASXMXMAXSAMAXAAAAXMASAAASMSMMMASMXAAXMMAASXSXMXASMAAXMAXSMMXSMMAXSAMXASMMSMSSXXAMXAAMXSAMXMAASAMAAXAAAAAXSASXSMSSMSASMSASAAX', 'ASASMSAMMMSMXXXMAMAMSMSMSASMMSSSMSAASMSMSAAAASXMXMMSMMAMASAMAMSASAMMMMXMSAAAAAXAXMAXMXMASMAAAMXSMMMMMMXAMAMMMMAMSMMMSMMMMXXMAAAXAAMXMASASMMM', 'XSAAXMAMSAMXASXMMSAMXAAASMMAAMAAAAMXMAXXMXMSMSAMXSMAMXAXAMAMAMMAMXXAMXMASAMXSAMASMMMAAMMMMAMSMAMAXAMSMSMSSSMASXMAAXAXAMXASXMSMMSMMMMMAMAMASX']\n"
     ]
    }
   ],
   "source": [
    "list1=[]\n",
    "\n",
    "with open(\"day_4_inpur.txt\",\"r\") as file:\n",
    "    for line in file:\n",
    "        list1 = file.read().strip().split(\"\\n\")\n",
    "print (list1[:3])"
   ]
  },
  {
   "cell_type": "code",
   "execution_count": 41,
   "id": "72ebad58-dd8f-4f86-99c4-8c9f8db159e3",
   "metadata": {},
   "outputs": [
    {
     "name": "stdout",
     "output_type": "stream",
     "text": [
      "2397\n"
     ]
    }
   ],
   "source": [
    "with open(\"day_4_inpur.txt\") as fin:\n",
    "    lines = fin.read().strip().split(\"\\n\")\n",
    "\n",
    "n = len(lines)\n",
    "m = len(lines[0])\n",
    "\n",
    "# Generate all directions\n",
    "dd = []\n",
    "for dx in range(-1, 2):\n",
    "    for dy in range(-1, 2):\n",
    "        if dx != 0 or dy != 0:\n",
    "            dd.append((dx, dy))\n",
    "\n",
    "# dd = [(-1, -1), (-1, 0), (-1, 1),\n",
    "#       (0, -1),           (0, 1),\n",
    "#       (1, -1), (1, 0), (1, 1)]\n",
    "\n",
    "def has_xmas(i, j, d):\n",
    "    dx, dy = d\n",
    "    for k, x in enumerate(\"XMAS\"):\n",
    "        ii = i + k * dx\n",
    "        jj = j + k * dy\n",
    "        if not (0 <= ii < n and 0 <= jj < m):\n",
    "            return False\n",
    "        if lines[ii][jj] != x:\n",
    "            return False\n",
    "    return True\n",
    "\n",
    "# Count up every cell and every direction\n",
    "ans = 0\n",
    "for i in range(n):\n",
    "    for j in range(m):\n",
    "        for d in dd:\n",
    "            ans += has_xmas(i, j, d)\n",
    "\n",
    "print(ans)"
   ]
  },
  {
   "cell_type": "markdown",
   "id": "664b6ccc-9242-4998-a15d-3300d335c952",
   "metadata": {},
   "source": [
    "## Part 2"
   ]
  },
  {
   "cell_type": "code",
   "execution_count": null,
   "id": "a190d5d5-b337-42ea-888e-b34180af5dbe",
   "metadata": {},
   "outputs": [],
   "source": []
  },
  {
   "cell_type": "code",
   "execution_count": 7,
   "id": "78246d75-2c4c-4468-a4d3-41a4f0451e29",
   "metadata": {},
   "outputs": [],
   "source": [
    "with open(\"day_4_inpur.txt\") as fin:\n",
    "    lines = fin.read().strip().split(\"\\n\")\n",
    "\n",
    "n = len(lines)\n",
    "m = len(lines[0])\n",
    "\n",
    "# Generate all directions\n",
    "dd = []\n",
    "for dx in range(-1, 2):\n",
    "    for dy in range(-1, 2):\n",
    "        if dx != 0 or dy != 0:\n",
    "            dd.append((dx, dy))"
   ]
  },
  {
   "cell_type": "code",
   "execution_count": 9,
   "id": "9e36b9df-a48c-495f-b78f-655ac8a0645d",
   "metadata": {},
   "outputs": [
    {
     "name": "stdout",
     "output_type": "stream",
     "text": [
      "1824\n"
     ]
    }
   ],
   "source": [
    "def func1(i, j): # i-> row, j-.col\n",
    "    if lines[i][j]!=\"A\": \n",
    "        return False \n",
    "    if not (1<=i<n-1 and 1<=j<m-1): \n",
    "        return  False \n",
    "    \n",
    "    diag_1=f\"{lines[i-1][j-1]}{lines[i+1][j+1]}\"\n",
    "    diag_2=f\"{lines[i-1][j+1]}{lines[i+1][j-1]}\"\n",
    "    \n",
    "    return (diag_1 in [\"MS\", \"SM\"]) and (diag_2 in [\"MS\", \"SM\"])\n",
    "ans=0\n",
    "for i in  range(n):\n",
    "    for j in range(m):\n",
    "        ans+=func1(i,j)\n",
    "\n",
    "print(ans)"
   ]
  },
  {
   "cell_type": "code",
   "execution_count": null,
   "id": "28043a80-f6c9-4429-9586-1e2dbfda4928",
   "metadata": {},
   "outputs": [],
   "source": []
  }
 ],
 "metadata": {
  "kernelspec": {
   "display_name": "Python [conda env:base] *",
   "language": "python",
   "name": "conda-base-py"
  },
  "language_info": {
   "codemirror_mode": {
    "name": "ipython",
    "version": 3
   },
   "file_extension": ".py",
   "mimetype": "text/x-python",
   "name": "python",
   "nbconvert_exporter": "python",
   "pygments_lexer": "ipython3",
   "version": "3.12.7"
  }
 },
 "nbformat": 4,
 "nbformat_minor": 5
}
