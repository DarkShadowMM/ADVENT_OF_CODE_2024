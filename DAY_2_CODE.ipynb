{
 "cells": [
  {
   "cell_type": "code",
   "execution_count": 11,
   "id": "55f2b78a-bc12-4a6c-8d79-f701fd6016a5",
   "metadata": {},
   "outputs": [
    {
     "name": "stdout",
     "output_type": "stream",
     "text": [
      "[[73, 75, 78, 81, 80], [81, 82, 83, 86, 89, 89], [66, 67, 68, 71, 75], [66, 67, 69, 70, 72, 74, 77, 83], [88, 90, 93, 90, 91, 92]]\n"
     ]
    }
   ],
   "source": [
    "list1=[]\n",
    "\n",
    "with open(\"day2_input.txt\",\"r\") as file:\n",
    "    for line in file:\n",
    "        line=[int(num) for num in line.strip().split()]\n",
    "        list1.append(line)\n",
    "        \n",
    "print(list1[:5])\n"
   ]
  },
  {
   "cell_type": "code",
   "execution_count": 4,
   "id": "e081cf09-9ccc-49bb-8904-41d5137338e5",
   "metadata": {},
   "outputs": [
    {
     "name": "stdout",
     "output_type": "stream",
     "text": [
      "439\n"
     ]
    }
   ],
   "source": [
    "list1=[]\n",
    "\n",
    "with open(\"day2_input.txt\",\"r\") as file:\n",
    "    for line in file:\n",
    "        line=[int(num) for num in line.strip().split()]\n",
    "        list1.append(line)\n",
    "\n",
    "safe_report_count = 0 \n",
    "\n",
    "\n",
    "def func1(lst):\n",
    "    increasing=lst[1]>lst[0] #true\n",
    "    \n",
    "    for i in range (len(lst)-1): \n",
    "        diff=lst[i+1]-lst[i]\n",
    "        \n",
    "        if not (1<=abs(diff)<=3):\n",
    "            return False \n",
    "        if increasing and diff<=0: \n",
    "            return False \n",
    "        if not increasing and diff>=0: \n",
    "            return False \n",
    "        \n",
    "    return True\n",
    "\n",
    "\n",
    "\n",
    "def func2(lst):\n",
    "    if func1(lst):\n",
    "            return True\n",
    "    for i in range(len(lst)):\n",
    "        n_list=lst[:i]+lst[i+1:]\n",
    "        if func1(n_list):\n",
    "            return True\n",
    "    return False\n",
    "    \n",
    "safe_report_count = sum(1 for lst in list1 if func2(lst))\n",
    "print(safe_report_count)    \n"
   ]
  },
  {
   "cell_type": "code",
   "execution_count": 6,
   "id": "b9dc9bc6-29d3-4f4b-97cc-b4f062755834",
   "metadata": {},
   "outputs": [
    {
     "name": "stdout",
     "output_type": "stream",
     "text": [
      "1000\n"
     ]
    }
   ],
   "source": [
    "print(safe_report_count)"
   ]
  },
  {
   "cell_type": "code",
   "execution_count": null,
   "id": "210b28cc-3ef7-4f38-bd9f-f29403bd36bd",
   "metadata": {},
   "outputs": [],
   "source": [
    "for lst in list1: #[[7, 6, 4, 2, 1],\n",
    "    flag = \"Safe\" \n",
    "    if len(lst) < 2:\n",
    "        flag = \"Unsafe\"\n",
    "    else:\n",
    "        first_diff = lst[1] - lst[0] #-1\n",
    "        if not (1 <= abs(first_diff) <= 3):\n",
    "            flag = \"Unsafe\"\n",
    "        else:\n",
    "            is_increasing = first_diff > 0 #False\n",
    "\n",
    "            \n",
    "            for i in range(1, len(lst) - 1): #[[7, 4,6, 2, 1],\n",
    "                current_diff = lst[i+1] - lst[i] #2 \n",
    "\n",
    "                \n",
    "                if not (1 <= abs(current_diff) <= 3):\n",
    "                    flag = \"Unsafe\"\n",
    "                    break \n",
    "\n",
    "                if is_increasing: #False\n",
    "                    if current_diff <= 0:  \n",
    "                        flag = \"Unsafe\"\n",
    "                        break\n",
    "                else: \n",
    "                    if current_diff >= 0: #True\n",
    "                        flag = \"Unsafe\"\n",
    "                        break\n",
    "\n",
    "   \n",
    "    #print(lst, flag)\n",
    "    if flag == \"Safe\":\n",
    "        safe_report_count += 1"
   ]
  }
 ],
 "metadata": {
  "kernelspec": {
   "display_name": "Python [conda env:base] *",
   "language": "python",
   "name": "conda-base-py"
  },
  "language_info": {
   "codemirror_mode": {
    "name": "ipython",
    "version": 3
   },
   "file_extension": ".py",
   "mimetype": "text/x-python",
   "name": "python",
   "nbconvert_exporter": "python",
   "pygments_lexer": "ipython3",
   "version": "3.12.7"
  }
 },
 "nbformat": 4,
 "nbformat_minor": 5
}
