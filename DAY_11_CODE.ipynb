{
 "cells": [
  {
   "cell_type": "code",
   "execution_count": null,
   "id": "851e79f7-9239-4929-8533-63d1e8da619c",
   "metadata": {},
   "outputs": [],
   "source": [
    "stone=[30,71441,3784,580926,2,8122942,0,291]\n",
    "\n",
    "def once(stone):\n",
    "    all_stones = []\n",
    "    for x in stone:\n",
    "        if x==0:\n",
    "            all_stones.append(1)\n",
    "        elif len(str(x)) % 2==0:\n",
    "            n=len(str(x))\n",
    "            l=int(str(x)[:n//2])\n",
    "            r=int(str(x)[n//2:])\n",
    "\n",
    "            all_stones.append(l)\n",
    "            all_stones.append(r)\n",
    "        else:    \n",
    "            all_stones.append(x * 2024)\n",
    "    return all_stones\n",
    "\n",
    "\n",
    "def many(stone,times):\n",
    "        for _ in range(times):\n",
    "            stone=once(stone)\n",
    "        return stone\n",
    "\n",
    "in_25_times = many(stone, 75)\n",
    "print(len(in_25_times))"
   ]
  },
  {
   "cell_type": "code",
   "execution_count": 6,
   "id": "265cd4bd-b43a-495d-87bd-63b6cf8017ef",
   "metadata": {},
   "outputs": [
    {
     "name": "stdout",
     "output_type": "stream",
     "text": [
      "46\n"
     ]
    }
   ],
   "source": [
    "print(len(many(stone,5)))"
   ]
  },
  {
   "cell_type": "code",
   "execution_count": 12,
   "id": "d6b47b9e-d0f6-49aa-8652-72cc0cf3cecf",
   "metadata": {},
   "outputs": [
    {
     "name": "stdout",
     "output_type": "stream",
     "text": [
      "292279\n"
     ]
    }
   ],
   "source": [
    "print(len(many(stone,26)))"
   ]
  },
  {
   "cell_type": "code",
   "execution_count": 10,
   "id": "56d776e5-2b70-431f-b456-26ca2d28c1cc",
   "metadata": {},
   "outputs": [
    {
     "name": "stdout",
     "output_type": "stream",
     "text": [
      "365\n"
     ]
    }
   ],
   "source": [
    "print(len(many(stone,10)))"
   ]
  },
  {
   "cell_type": "code",
   "execution_count": null,
   "id": "6f718efd-8316-4783-b0ea-1ee1a256afed",
   "metadata": {},
   "outputs": [],
   "source": []
  }
 ],
 "metadata": {
  "kernelspec": {
   "display_name": "Python [conda env:base] *",
   "language": "python",
   "name": "conda-base-py"
  },
  "language_info": {
   "codemirror_mode": {
    "name": "ipython",
    "version": 3
   },
   "file_extension": ".py",
   "mimetype": "text/x-python",
   "name": "python",
   "nbconvert_exporter": "python",
   "pygments_lexer": "ipython3",
   "version": "3.12.7"
  }
 },
 "nbformat": 4,
 "nbformat_minor": 5
}
